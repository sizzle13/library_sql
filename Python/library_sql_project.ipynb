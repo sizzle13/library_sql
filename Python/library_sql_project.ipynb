{
 "cells": [
  {
   "cell_type": "code",
   "execution_count": 1,
   "metadata": {},
   "outputs": [],
   "source": [
    "import mysql.connector\n"
   ]
  },
  {
   "cell_type": "code",
   "execution_count": 2,
   "metadata": {},
   "outputs": [],
   "source": [
    "conn = mysql.connector.connect(host = \"sql8.freesqldatabase.com\", username=\"sql8713045\", password=\"VZyDbMNYZZ\",\n",
    "                       database = \"sql8713045\", port=3306)"
   ]
  },
  {
   "cell_type": "code",
   "execution_count": 3,
   "metadata": {},
   "outputs": [],
   "source": [
    "cursor = conn.cursor()\n"
   ]
  },
  {
   "cell_type": "code",
   "execution_count": 4,
   "metadata": {},
   "outputs": [],
   "source": [
    "cursor.execute(\"\"\"\n",
    "ALTER TABLE Loans \n",
    "ADD FOREIGN KEY (BookID)\n",
    "REFERENCES Books(BookID); \"\"\")\n"
   ]
  },
  {
   "cell_type": "code",
   "execution_count": 9,
   "metadata": {},
   "outputs": [],
   "source": [
    "cursor.execute(\"\"\"\n",
    "ALTER TABLE Loans \n",
    "ADD FOREIGN KEY (PatronID)\n",
    "REFERENCES Patrons(PatronID); \"\"\")"
   ]
  },
  {
   "cell_type": "code",
   "execution_count": 12,
   "metadata": {},
   "outputs": [],
   "source": [
    " #find the number of availalbe copies of Dracula\n",
    "\n",
    "cursor.execute(\"\"\" \n",
    "SELECT Title, count(Title) as available_copies FROM Books as b \n",
    "LEFT JOIN Loans as l ON b.BookID = l.BookID\n",
    "WHERE b.Title = \"Dracula\" AND l.ReturnedDate IS NOT NULL\n",
    "GROUP BY Title; \"\"\")"
   ]
  },
  {
   "cell_type": "code",
   "execution_count": 13,
   "metadata": {},
   "outputs": [
    {
     "data": {
      "text/plain": [
       "[('Dracula', 31)]"
      ]
     },
     "execution_count": 13,
     "metadata": {},
     "output_type": "execute_result"
    }
   ],
   "source": [
    "available_dracula_copies = cursor.fetchall()\n",
    "available_dracula_copies"
   ]
  },
  {
   "cell_type": "code",
   "execution_count": 19,
   "metadata": {},
   "outputs": [],
   "source": [
    "# check total copies of the book \n",
    "\n",
    "cursor.execute(\"\"\" \n",
    "SELECT Title, count(Title) as total_copies FROM Books as b \n",
    "INNER JOIN Loans as l ON b.BookID = l.BookID\n",
    "WHERE b.Title = \"Dracula\"\n",
    "GROUP BY Title; \"\"\")"
   ]
  },
  {
   "cell_type": "code",
   "execution_count": 20,
   "metadata": {},
   "outputs": [
    {
     "data": {
      "text/plain": [
       "[('Dracula', 32)]"
      ]
     },
     "execution_count": 20,
     "metadata": {},
     "output_type": "execute_result"
    }
   ],
   "source": [
    "total_dracula_copies = cursor.fetchall()\n",
    "total_dracula_copies"
   ]
  },
  {
   "cell_type": "code",
   "execution_count": 22,
   "metadata": {},
   "outputs": [],
   "source": [
    "# current total loans of the book \n",
    "\n",
    "cursor.execute(\"\"\" \n",
    "SELECT Title, count(Title) as total_loans FROM Books as b \n",
    "INNER JOIN Loans as l ON b.BookID = l.BookID\n",
    "WHERE b.Title = \"Dracula\" AND l.ReturnedDate IS NULL\n",
    "GROUP BY Title; \"\"\")\n"
   ]
  },
  {
   "cell_type": "code",
   "execution_count": 23,
   "metadata": {},
   "outputs": [
    {
     "data": {
      "text/plain": [
       "[('Dracula', 1)]"
      ]
     },
     "execution_count": 23,
     "metadata": {},
     "output_type": "execute_result"
    }
   ],
   "source": [
    "total_loans = cursor.fetchall()\n",
    "total_loans"
   ]
  },
  {
   "cell_type": "code",
   "execution_count": 25,
   "metadata": {},
   "outputs": [],
   "source": [
    "# total available book \n",
    "\n",
    "cursor.execute(\"\"\" \n",
    "SELECT Title, count(Title) as total_available_books FROM Books as b \n",
    "LEFT JOIN Loans as l ON b.BookID = l.BookID\n",
    "WHERE l.ReturnedDate IS NOT NULL\n",
    "GROUP BY Title; \"\"\")"
   ]
  },
  {
   "cell_type": "code",
   "execution_count": 26,
   "metadata": {},
   "outputs": [
    {
     "data": {
      "text/plain": [
       "[(\"A Doll's House\", 28),\n",
       " ('A Modest Proposal', 20),\n",
       " ('A Study in Scarlet', 30),\n",
       " ('A Tale of Two Cities', 37),\n",
       " ('Adventures of Huckleberry Finn', 23),\n",
       " (\"Alice's Adventures in Wonderland\", 38),\n",
       " ('Also sprach Zarathustra', 28),\n",
       " ('An Occurrence at Owl Creek Bridge', 32),\n",
       " ('Anna Karenina', 24),\n",
       " ('Anne of Green Gables', 24),\n",
       " ('Candide', 21),\n",
       " ('David Copperfield', 24),\n",
       " ('Don Quixote', 22),\n",
       " ('Dracula', 31),\n",
       " ('Dubliners', 26),\n",
       " ('Emma', 35),\n",
       " ('Frankenstein; Or, The Modern Prometheus', 53),\n",
       " ('Great Expectations', 29),\n",
       " (\"Grimms' Fairy Tales\", 32),\n",
       " (\"Gulliver's Travels into Several Remote Nations of the World\", 31),\n",
       " ('Hard Times', 25),\n",
       " ('Heart of Darkness', 19),\n",
       " ('Jane Eyre: An Autobiography', 35),\n",
       " ('Les Misérables', 25),\n",
       " ('Little Women', 30),\n",
       " ('Metamorphosis', 29),\n",
       " ('Moby Dick; Or, The Whale', 19),\n",
       " ('Oliver Twist', 21),\n",
       " ('On the origin of species', 31),\n",
       " (\"Pascal's Pensées\", 17),\n",
       " ('Peter Pan', 29),\n",
       " ('Pride and Prejudice', 28),\n",
       " ('Pygmalion', 21),\n",
       " ('Second Treatise of Government', 16),\n",
       " ('Sense and Sensibility', 32),\n",
       " ('Siddhartha', 20),\n",
       " ('The Adventures of Sherlock Holmes', 26),\n",
       " ('The Adventures of Tom Sawyer', 36),\n",
       " ('The Awakening, and Selected Short Stories', 43),\n",
       " ('The Brothers Karamazov', 21),\n",
       " ('The Call of the Wild', 28),\n",
       " ('The Count of Monte Cristo', 22),\n",
       " ('The Decameron of Giovanni Boccaccio', 20),\n",
       " ('The Hound of the Baskervilles', 16),\n",
       " ('The Importance of Being Earnest: A Trivial Comedy for Serious People', 31),\n",
       " ('The Jungle', 18),\n",
       " ('The Jungle Book', 28),\n",
       " ('The Life and Adventures of Robinson Crusoe', 29),\n",
       " ('The Mysterious Affair at Styles', 36),\n",
       " ('The Picture of Dorian Gray', 39),\n",
       " ('The Prince', 30),\n",
       " ('The Prophet', 28),\n",
       " ('The Scarlet Letter', 42),\n",
       " ('The Secret Garden', 29),\n",
       " ('The Sign of the Four', 25),\n",
       " ('The Strange Case of Dr. Jekyll and Mr. Hyde', 32),\n",
       " ('The Tale of Peter Rabbit', 32),\n",
       " ('The Time Machine', 27),\n",
       " ('The Turn of the Screw', 36),\n",
       " ('The War of the Worlds', 43),\n",
       " ('The Wonderful Wizard of Oz', 26),\n",
       " ('The Yellow Wallpaper', 31),\n",
       " ('Three Men in a Boat (To Say Nothing of the Dog)', 28),\n",
       " ('Tractatus Logico-Philosophicus', 16),\n",
       " ('Treasure Island', 28),\n",
       " ('Ulysses', 26),\n",
       " (\"Uncle Tom's Cabin\", 26),\n",
       " ('Walden, and On The Duty Of Civil Disobedience', 30),\n",
       " ('War and Peace', 31),\n",
       " ('Wuthering Heights', 34)]"
      ]
     },
     "execution_count": 26,
     "metadata": {},
     "output_type": "execute_result"
    }
   ],
   "source": [
    "total_available_books = cursor.fetchall()\n",
    "total_available_books"
   ]
  },
  {
   "cell_type": "code",
   "execution_count": 29,
   "metadata": {},
   "outputs": [
    {
     "ename": "IntegrityError",
     "evalue": "1062 (23000): Duplicate entry '201' for key 'PRIMARY'",
     "output_type": "error",
     "traceback": [
      "\u001b[1;31m---------------------------------------------------------------------------\u001b[0m",
      "\u001b[1;31mMySQLInterfaceError\u001b[0m                       Traceback (most recent call last)",
      "\u001b[1;32m~\\anaconda3\\lib\\site-packages\\mysql\\connector\\connection_cext.py\u001b[0m in \u001b[0;36mcmd_query\u001b[1;34m(self, query, raw, buffered, raw_as_string)\u001b[0m\n\u001b[0;32m    615\u001b[0m                 \u001b[0mraw_as_string\u001b[0m\u001b[1;33m=\u001b[0m\u001b[0mraw_as_string\u001b[0m\u001b[1;33m,\u001b[0m\u001b[1;33m\u001b[0m\u001b[1;33m\u001b[0m\u001b[0m\n\u001b[1;32m--> 616\u001b[1;33m                 \u001b[0mquery_attrs\u001b[0m\u001b[1;33m=\u001b[0m\u001b[0mself\u001b[0m\u001b[1;33m.\u001b[0m\u001b[0m_query_attrs\u001b[0m\u001b[1;33m,\u001b[0m\u001b[1;33m\u001b[0m\u001b[1;33m\u001b[0m\u001b[0m\n\u001b[0m\u001b[0;32m    617\u001b[0m             )\n",
      "\u001b[1;31mMySQLInterfaceError\u001b[0m: Duplicate entry '201' for key 'PRIMARY'",
      "\nThe above exception was the direct cause of the following exception:\n",
      "\u001b[1;31mIntegrityError\u001b[0m                            Traceback (most recent call last)",
      "\u001b[1;32m<ipython-input-29-f718620a71a6>\u001b[0m in \u001b[0;36m<module>\u001b[1;34m\u001b[0m\n\u001b[0;32m      4\u001b[0m \u001b[0mINSERT\u001b[0m \u001b[0mINTO\u001b[0m \u001b[0mBooks\u001b[0m \u001b[0mVALUES\u001b[0m\u001b[1;33m\u001b[0m\u001b[1;33m\u001b[0m\u001b[0m\n\u001b[0;32m      5\u001b[0m \u001b[1;33m(\u001b[0m\u001b[1;36m201\u001b[0m\u001b[1;33m,\u001b[0m \u001b[1;34m\"A Game Of Thrones\"\u001b[0m\u001b[1;33m,\u001b[0m \u001b[1;34m\"George R. R. Martin\"\u001b[0m\u001b[1;33m,\u001b[0m \u001b[1;36m1996\u001b[0m\u001b[1;33m,\u001b[0m \u001b[1;36m2719805889\u001b[0m\u001b[1;33m)\u001b[0m\u001b[1;33m,\u001b[0m\u001b[1;33m\u001b[0m\u001b[1;33m\u001b[0m\u001b[0m\n\u001b[1;32m----> 6\u001b[1;33m (202, \"Terriens (PHOTOGRAPHIE)\", \"Richard Kalvar\", 2007, 2081201135); \"\"\")\n\u001b[0m",
      "\u001b[1;32m~\\anaconda3\\lib\\site-packages\\mysql\\connector\\cursor_cext.py\u001b[0m in \u001b[0;36mexecute\u001b[1;34m(self, operation, params, multi)\u001b[0m\n\u001b[0;32m    332\u001b[0m                 \u001b[0mraw\u001b[0m\u001b[1;33m=\u001b[0m\u001b[0mself\u001b[0m\u001b[1;33m.\u001b[0m\u001b[0m_raw\u001b[0m\u001b[1;33m,\u001b[0m\u001b[1;33m\u001b[0m\u001b[1;33m\u001b[0m\u001b[0m\n\u001b[0;32m    333\u001b[0m                 \u001b[0mbuffered\u001b[0m\u001b[1;33m=\u001b[0m\u001b[0mself\u001b[0m\u001b[1;33m.\u001b[0m\u001b[0m_buffered\u001b[0m\u001b[1;33m,\u001b[0m\u001b[1;33m\u001b[0m\u001b[1;33m\u001b[0m\u001b[0m\n\u001b[1;32m--> 334\u001b[1;33m                 \u001b[0mraw_as_string\u001b[0m\u001b[1;33m=\u001b[0m\u001b[0mself\u001b[0m\u001b[1;33m.\u001b[0m\u001b[0m_raw_as_string\u001b[0m\u001b[1;33m,\u001b[0m\u001b[1;33m\u001b[0m\u001b[1;33m\u001b[0m\u001b[0m\n\u001b[0m\u001b[0;32m    335\u001b[0m             )\n\u001b[0;32m    336\u001b[0m         \u001b[1;32mexcept\u001b[0m \u001b[0mMySQLInterfaceError\u001b[0m \u001b[1;32mas\u001b[0m \u001b[0merr\u001b[0m\u001b[1;33m:\u001b[0m\u001b[1;33m\u001b[0m\u001b[1;33m\u001b[0m\u001b[0m\n",
      "\u001b[1;32m~\\anaconda3\\lib\\site-packages\\mysql\\connector\\connection_cext.py\u001b[0m in \u001b[0;36mcmd_query\u001b[1;34m(self, query, raw, buffered, raw_as_string)\u001b[0m\n\u001b[0;32m    619\u001b[0m             raise get_mysql_exception(\n\u001b[0;32m    620\u001b[0m                 \u001b[0merr\u001b[0m\u001b[1;33m.\u001b[0m\u001b[0merrno\u001b[0m\u001b[1;33m,\u001b[0m \u001b[0mmsg\u001b[0m\u001b[1;33m=\u001b[0m\u001b[0merr\u001b[0m\u001b[1;33m.\u001b[0m\u001b[0mmsg\u001b[0m\u001b[1;33m,\u001b[0m \u001b[0msqlstate\u001b[0m\u001b[1;33m=\u001b[0m\u001b[0merr\u001b[0m\u001b[1;33m.\u001b[0m\u001b[0msqlstate\u001b[0m\u001b[1;33m\u001b[0m\u001b[1;33m\u001b[0m\u001b[0m\n\u001b[1;32m--> 621\u001b[1;33m             ) from err\n\u001b[0m\u001b[0;32m    622\u001b[0m         \u001b[1;32mexcept\u001b[0m \u001b[0mAttributeError\u001b[0m \u001b[1;32mas\u001b[0m \u001b[0merr\u001b[0m\u001b[1;33m:\u001b[0m\u001b[1;33m\u001b[0m\u001b[1;33m\u001b[0m\u001b[0m\n\u001b[0;32m    623\u001b[0m             addr = (\n",
      "\u001b[1;31mIntegrityError\u001b[0m: 1062 (23000): Duplicate entry '201' for key 'PRIMARY'"
     ]
    }
   ],
   "source": [
    "# Add new books to the library                        \n",
    "\n",
    "cursor.execute(\"\"\" \n",
    "INSERT INTO Books VALUES \n",
    "(201, \"A Game Of Thrones\", \"George R. R. Martin\", 1996, 2719805889), \n",
    "(202, \"Terriens (PHOTOGRAPHIE)\", \"Richard Kalvar\", 2007, 2081201135); \"\"\")"
   ]
  },
  {
   "cell_type": "code",
   "execution_count": 30,
   "metadata": {},
   "outputs": [
    {
     "data": {
      "text/plain": [
       "[]"
      ]
     },
     "execution_count": 30,
     "metadata": {},
     "output_type": "execute_result"
    }
   ],
   "source": [
    "# Check out Books \n",
    "\n",
    "cursor.execute(\"\"\" \n",
    "INSERT INTO Patrons Values (\"Shahd\", \"Hatem\", \"shahdhdaoud@gmail.com\", 201); \"\"\")\n",
    "\n",
    "cursor.execute(\"\"\" \n",
    "INSERT INTO Loans (LoanID, BookID, PatronID, LoanDate, DueDate) \n",
    "VALUES \n",
    "(2001, 201, (SELECT PatronID FROM Patrons WHERE Email = \"shahdhdaoud@gmail.com\") , \"2024-06-09\", \"2024-07-09\"), \n",
    "(2002, 202, (SELECT PatronID FROM Patrons WHERE Email = \"ccalver8@samoca.org\"), \"2024-06-10\", \"2024-07-10\"); \"\"\")"
   ]
  },
  {
   "cell_type": "code",
   "execution_count": 37,
   "metadata": {},
   "outputs": [],
   "source": [
    "# Check books for Due back                             \n",
    "# generate a report of books due back on July 13, 2020 \n",
    "# with patron contact information   \n",
    "\n",
    "cursor.execute(\"\"\" \n",
    "SELECT b.Title, CONCAT(p.FirstName, \" \", p.LastName) as full_name, p.Email, l.DueDate FROM Books as b\n",
    "INNER JOIN Loans as l ON b.BookID = l.BookID\n",
    "INNER JOIN Patrons as p ON p.PatronID = l.PatronID\n",
    "WHERE DueDate = \"2020-07-13\"; \"\"\")"
   ]
  },
  {
   "cell_type": "code",
   "execution_count": 38,
   "metadata": {},
   "outputs": [
    {
     "data": {
      "text/plain": [
       "[('Second Treatise of Government',\n",
       "  'Anthe Dinjes',\n",
       "  'adinjesh@samoca.org',\n",
       "  '2020-07-13'),\n",
       " ('The Prophet', 'Lydie Awmack', 'lawmack1a@samoca.org', '2020-07-13'),\n",
       " ('Dracula', 'Cornelia Koppe', 'ckoppe1m@landonhotel.com', '2020-07-13'),\n",
       " ('The Count of Monte Cristo',\n",
       "  'Kala Simonian',\n",
       "  'ksimonian2q@landonhotel.com',\n",
       "  '2020-07-13')]"
      ]
     },
     "execution_count": 38,
     "metadata": {},
     "output_type": "execute_result"
    }
   ],
   "source": [
    "due_books = cursor.fetchall()\n",
    "due_books"
   ]
  },
  {
   "cell_type": "code",
   "execution_count": null,
   "metadata": {},
   "outputs": [],
   "source": [
    "# Return books to the library                         \n",
    "\n",
    "cursor.execute(\"\"\" UPDATE Loans \n",
    "SET ReturnedDate = CASE LoanID\n",
    "WHEN 2001 THEN \"2024-07-09\"\n",
    "WHEN 2002 THEN \"2024-07-10\"\n",
    "ELSE ReturnedDate\n",
    "END\n",
    "WHERE LoanID IN(2001, 2002); \"\"\")"
   ]
  },
  {
   "cell_type": "code",
   "execution_count": 39,
   "metadata": {},
   "outputs": [],
   "source": [
    "# Encourage Patrons to check out books                \n",
    "# generate a report of showing 10 patrons who have\n",
    "# checked out the fewest books.\n",
    "\n",
    "cursor.execute(\"\"\" \n",
    "SELECT p.PatronID, CONCAT(p.FirstName, \" \", p.LastName) as full_name, count(l.LoanID) as borrowed_books FROM Loans as l\n",
    "INNER JOIN Patrons as p ON l.PatronID = p.PatronID\n",
    "GROUP BY p.PatronID\n",
    "ORDER BY borrowed_books\n",
    "LIMIT 10; \"\"\")"
   ]
  },
  {
   "cell_type": "code",
   "execution_count": 40,
   "metadata": {},
   "outputs": [
    {
     "data": {
      "text/plain": [
       "[(69, 'Alaster Ruggles', 9),\n",
       " (83, 'Caril Matejic', 9),\n",
       " (73, 'Merle Sukbhans', 11),\n",
       " (64, 'Norby Sleight', 12),\n",
       " (94, 'Curr Fittall', 12),\n",
       " (50, 'Jack Vaan', 13),\n",
       " (3, 'Aleen Fasey', 14),\n",
       " (7, 'Cammi Kynett', 14),\n",
       " (12, 'Orton Stavers', 14),\n",
       " (16, 'Carla Swinfen', 14)]"
      ]
     },
     "execution_count": 40,
     "metadata": {},
     "output_type": "execute_result"
    }
   ],
   "source": [
    "fewest_books = cursor.fetchall()\n",
    "fewest_books"
   ]
  },
  {
   "cell_type": "code",
   "execution_count": 47,
   "metadata": {},
   "outputs": [],
   "source": [
    "# Find books to feature for an event                  \n",
    "# create a list of books from 1890s that are currently available                                    \n",
    "\n",
    "cursor.execute(\"\"\" \n",
    "SELECT b.Title, b.Published, count(b.Title) as total_available_books FROM Books as b \n",
    "INNER JOIN Loans as l ON b.BookID = l.BookID\n",
    "WHERE l.ReturnedDate IS NOT NULL AND b.Published BETWEEN 1890 AND 1899\n",
    "GROUP BY Title\n",
    "ORDER BY Published; \"\"\")"
   ]
  },
  {
   "cell_type": "code",
   "execution_count": 48,
   "metadata": {},
   "outputs": [
    {
     "data": {
      "text/plain": [
       "[('The Sign of the Four', 1890, 25),\n",
       " ('The Picture of Dorian Gray', 1890, 39),\n",
       " ('An Occurrence at Owl Creek Bridge', 1890, 32),\n",
       " ('The Adventures of Sherlock Holmes', 1892, 26),\n",
       " ('The Yellow Wallpaper', 1892, 31),\n",
       " ('The Jungle Book', 1894, 28),\n",
       " ('The Importance of Being Earnest: A Trivial Comedy for Serious People',\n",
       "  1895,\n",
       "  31),\n",
       " ('The Time Machine', 1895, 27),\n",
       " ('Les Misérables', 1895, 25),\n",
       " ('Also sprach Zarathustra', 1896, 28),\n",
       " ('Dracula', 1897, 31),\n",
       " ('The War of the Worlds', 1898, 43),\n",
       " ('The Turn of the Screw', 1898, 36),\n",
       " ('The Awakening, and Selected Short Stories', 1899, 43),\n",
       " ('Heart of Darkness', 1899, 19)]"
      ]
     },
     "execution_count": 48,
     "metadata": {},
     "output_type": "execute_result"
    }
   ],
   "source": [
    "nineties_available_books = cursor.fetchall()\n",
    "nineties_available_books"
   ]
  },
  {
   "cell_type": "code",
   "execution_count": 49,
   "metadata": {},
   "outputs": [],
   "source": [
    "# Book Statistics \n",
    "# create a report to show how many books were published each year.    \n",
    "\n",
    "\n",
    "cursor.execute(\"\"\" \n",
    "SELECT Published, COUNT(DISTINCT(Title)) AS TotalNumberOfPublishedBooks\n",
    "FROM Books\n",
    "GROUP BY Published\n",
    "ORDER BY TotalNumberOfPublishedBooks DESC; \"\"\")"
   ]
  },
  {
   "cell_type": "code",
   "execution_count": 50,
   "metadata": {},
   "outputs": [
    {
     "data": {
      "text/plain": [
       "[(1890, 3),\n",
       " (1895, 3),\n",
       " (1869, 2),\n",
       " (1898, 2),\n",
       " (1899, 2),\n",
       " (1847, 2),\n",
       " (1884, 2),\n",
       " (1850, 2),\n",
       " (1911, 2),\n",
       " (1892, 2),\n",
       " (1859, 2),\n",
       " (1922, 2),\n",
       " (1791, 1),\n",
       " (1996, 1),\n",
       " (1811, 1),\n",
       " (1876, 1),\n",
       " (2007, 1),\n",
       " (1813, 1),\n",
       " (1878, 1),\n",
       " (1900, 1),\n",
       " (1815, 1),\n",
       " (1879, 1),\n",
       " (1901, 1),\n",
       " (1818, 1),\n",
       " (1880, 1),\n",
       " (1902, 1),\n",
       " (1839, 1),\n",
       " (1883, 1),\n",
       " (1905, 1),\n",
       " (1906, 1),\n",
       " (1849, 1),\n",
       " (1886, 1),\n",
       " (1908, 1),\n",
       " (1375, 1),\n",
       " (1887, 1),\n",
       " (1532, 1),\n",
       " (1851, 1),\n",
       " (1889, 1),\n",
       " (1913, 1),\n",
       " (1605, 1),\n",
       " (1852, 1),\n",
       " (1914, 1),\n",
       " (1670, 1),\n",
       " (1854, 1),\n",
       " (1915, 1),\n",
       " (1689, 1),\n",
       " (1858, 1),\n",
       " (1894, 1),\n",
       " (1920, 1),\n",
       " (1726, 1),\n",
       " (1921, 1),\n",
       " (1729, 1),\n",
       " (1861, 1),\n",
       " (1896, 1),\n",
       " (1759, 1),\n",
       " (1865, 1),\n",
       " (1897, 1),\n",
       " (1923, 1)]"
      ]
     },
     "execution_count": 50,
     "metadata": {},
     "output_type": "execute_result"
    }
   ],
   "source": [
    "yearly_published_books = cursor.fetchall()\n",
    "yearly_published_books"
   ]
  },
  {
   "cell_type": "code",
   "execution_count": 51,
   "metadata": {},
   "outputs": [],
   "source": [
    "# Book Statistics                                           \n",
    "# create a report to show 5 most popular Books to check out \n",
    "\n",
    "cursor.execute(\"\"\" \n",
    "SELECT b.Title, b.Author, b.Published, COUNT(b.Title) AS TotalTimesOfLoans\n",
    "FROM Books b\n",
    "JOIN Loans l\n",
    "ON b.BookID = l.BookID\n",
    "GROUP BY b.Title\n",
    "ORDER BY 4 DESC\n",
    "LIMIT 5; \"\"\")"
   ]
  },
  {
   "cell_type": "code",
   "execution_count": 52,
   "metadata": {},
   "outputs": [
    {
     "data": {
      "text/plain": [
       "[('Frankenstein; Or, The Modern Prometheus',\n",
       "  'Mary Wollstonecraft Shelley',\n",
       "  1818,\n",
       "  53),\n",
       " ('The Awakening, and Selected Short Stories', 'Kate Chopin', 1899, 43),\n",
       " ('The War of the Worlds', 'H. G. Wells', 1898, 43),\n",
       " ('The Scarlet Letter', 'Nathaniel Hawthorne', 1850, 42),\n",
       " ('The Picture of Dorian Gray', 'Oscar Wilde', 1890, 39)]"
      ]
     },
     "execution_count": 52,
     "metadata": {},
     "output_type": "execute_result"
    }
   ],
   "source": [
    "five_popular_books = cursor.fetchall()\n",
    "five_popular_books"
   ]
  },
  {
   "cell_type": "code",
   "execution_count": null,
   "metadata": {},
   "outputs": [],
   "source": []
  }
 ],
 "metadata": {
  "kernelspec": {
   "display_name": "Python 3",
   "language": "python",
   "name": "python3"
  },
  "language_info": {
   "codemirror_mode": {
    "name": "ipython",
    "version": 3
   },
   "file_extension": ".py",
   "mimetype": "text/x-python",
   "name": "python",
   "nbconvert_exporter": "python",
   "pygments_lexer": "ipython3",
   "version": "3.7.6"
  }
 },
 "nbformat": 4,
 "nbformat_minor": 4
}
